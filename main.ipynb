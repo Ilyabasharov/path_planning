{
 "metadata": {
  "language_info": {
   "codemirror_mode": {
    "name": "ipython",
    "version": 3
   },
   "file_extension": ".py",
   "mimetype": "text/x-python",
   "name": "python",
   "nbconvert_exporter": "python",
   "pygments_lexer": "ipython3",
   "version": "3.8.5"
  },
  "orig_nbformat": 2,
  "kernelspec": {
   "name": "python3",
   "display_name": "Python 3.8.5 64-bit",
   "metadata": {
    "interpreter": {
     "hash": "31f2aee4e71d21fbe5cf8b01ff0e069b9275f58929596ceb00d14d90e3e16cd6"
    }
   }
  }
 },
 "nbformat": 4,
 "nbformat_minor": 2,
 "cells": [
  {
   "cell_type": "code",
   "execution_count": 1,
   "metadata": {},
   "outputs": [],
   "source": [
    "from PIL import Image, ImageDraw\n",
    "import numpy as np\n",
    "import matplotlib.pyplot as plt\n",
    "import math\n",
    "import utils\n",
    "from utils import Map, Node, MakePath,  Draw, SimpleTest, MassiveTest, DiagonalDistance,  ReadMapFromMovingAIFile\n",
    "from JPSplus import GetJumpPoint, CheckJumpPoint, traversable, ProcessMap, JPSplus\n",
    "%matplotlib inline\n",
    "EPS = 0.000001\n",
    "import time\n"
   ]
  },
  {
   "cell_type": "code",
   "execution_count": 2,
   "metadata": {},
   "outputs": [],
   "source": [
    "height = 15\n",
    "width = 30\n",
    "mapstr = '''\n",
    ". . . . . . . . . . . . . . . . . . . . . # # . . . . . . .  \n",
    ". . . . . . . . . . . . . . . . . . . . . # # . . . . . . . \n",
    ". . . . . . . . . . . . . . . . . . . . . # # . . . . . . . \n",
    ". . . # # . . . . . . . . . . . . . . . . # # . . . . . . . \n",
    ". . . # # . . . . . . . . # # . . . . . . # # . . . . . . . \n",
    ". . . # # . . . . . . . . # # . . . . . . # # # # # . . . . \n",
    ". . . # # . . . . . . . . # # . . . . . . # # # # # . . . . \n",
    ". . . # # . . . . . . . . # # . . . . . . . . . . . . . . . \n",
    ". . . # # . . . . . . . . # # . . . . . . . . . . . . . . . \n",
    ". . . # # . . . . . . . . # # . . . . . . . . . . . . . . . \n",
    ". . . # # . . . . . . . . # # . . . . . . . . . . . . . . . \n",
    ". . . # # . . . . . . . . # # . . . . . . . . . . . . . . . \n",
    ". . . . . . . . . . . . . # # . . . . . . . . . . . . . . . \n",
    ". . . . . . . . . . . . . # # . . . . . . . . . . . . . . .\n",
    ". . . . . . . . . . . . . # # . . . . . . . . . . . . . . .\n",
    "'''\n",
    "iStart = 1\n",
    "jStart = 1\n",
    "iGoal = 13\n",
    "jGoal = 28\n",
    "pathLen = 31.9705627"
   ]
  },
  {
   "cell_type": "code",
   "execution_count": 5,
   "metadata": {},
   "outputs": [
    {
     "output_type": "execute_result",
     "data": {
      "text/plain": [
       "1"
      ]
     },
     "metadata": {},
     "execution_count": 5
    }
   ],
   "source": [
    "a = [1,2,3,5]\n",
    "a[::-1].pop()"
   ]
  },
  {
   "cell_type": "code",
   "execution_count": 18,
   "metadata": {},
   "outputs": [],
   "source": [
    "\n",
    "height = 15\n",
    "width = 30\n",
    "mapstr = '''\n",
    ". . . . . . . . . . . . . . . . . . . . . # # . . . . . . .  \n",
    ". . . . . . . . . . . . . . . . . . . . . # # . . . . . . . \n",
    ". . . . . . . . . . . . . . . . . . . . . # # . . . . . . . \n",
    ". . . # # . . . . . . . . . . . . . . . . # . . . . . . . . \n",
    ". . . # # . . . . . . . . # # . . . . . . # . . . . . . . . \n",
    ". . . # # . . . . . . . . # # . . . . . . # . # # # . . . . \n",
    ". . . # # . . . . . . . . # # . . . . . . # . # . # . . . . \n",
    ". . . # # . . . . . . . . # # . . . . . . # . . . # . . . .\n",
    ". . . # # . . . . . . . . # # . . . . . . # # # # . . . . . \n",
    ". . . # # . . . . . . . . # # . . . . . . . . . . . . . . . \n",
    ". . . # # . . . . . . . . # # . . . . . . . . . . . . . . . \n",
    ". . . # # . . . . . . . . # # . . . . . . . . . . . . . . . \n",
    ". . . . . . . . . . . . . # # . . . . . . . . . . . . . . . \n",
    ". . . . . . . . . . . . . # # . . . . . . . . . . . . . . .\n",
    ". . . . . . . . . . . . . # # . . . . . . . . . . . . . . .\n",
    "'''\n",
    "iStart = 1\n",
    "jStart = 1\n",
    "iGoal = 6\n",
    "jGoal = 24\n",
    "pathLen = 32"
   ]
  },
  {
   "cell_type": "code",
   "execution_count": 19,
   "metadata": {},
   "outputs": [],
   "source": [
    "taskMap = Map()\n",
    "taskMap.ReadFromString(mapstr, width, height)\n",
    "proc_map = ProcessMap(np.array(taskMap.cells))"
   ]
  },
  {
   "cell_type": "code",
   "execution_count": 20,
   "metadata": {
    "tags": []
   },
   "outputs": [
    {
     "output_type": "stream",
     "name": "stdout",
     "text": [
      "Path found! Length: 40.38477631085023. Nodes created: 77. Number of steps: 60. Correct: False\nCPU times: user 16.4 ms, sys: 1 µs, total: 16.4 ms\nWall time: 15.7 ms\n"
     ]
    },
    {
     "output_type": "display_data",
     "data": {
      "text/plain": "<Figure size 900x600 with 1 Axes>",
      "image/svg+xml": "<?xml version=\"1.0\" encoding=\"utf-8\" standalone=\"no\"?>\n<!DOCTYPE svg PUBLIC \"-//W3C//DTD SVG 1.1//EN\"\n  \"http://www.w3.org/Graphics/SVG/1.1/DTD/svg11.dtd\">\n<!-- Created with matplotlib (https://matplotlib.org/) -->\n<svg height=\"185.3pt\" version=\"1.1\" viewBox=\"0 0 352.7 185.3\" width=\"352.7pt\" xmlns=\"http://www.w3.org/2000/svg\" xmlns:xlink=\"http://www.w3.org/1999/xlink\">\n <metadata>\n  <rdf:RDF xmlns:cc=\"http://creativecommons.org/ns#\" xmlns:dc=\"http://purl.org/dc/elements/1.1/\" xmlns:rdf=\"http://www.w3.org/1999/02/22-rdf-syntax-ns#\">\n   <cc:Work>\n    <dc:type rdf:resource=\"http://purl.org/dc/dcmitype/StillImage\"/>\n    <dc:date>2021-05-08T21:36:04.521634</dc:date>\n    <dc:format>image/svg+xml</dc:format>\n    <dc:creator>\n     <cc:Agent>\n      <dc:title>Matplotlib v3.3.4, https://matplotlib.org/</dc:title>\n     </cc:Agent>\n    </dc:creator>\n   </cc:Work>\n  </rdf:RDF>\n </metadata>\n <defs>\n  <style type=\"text/css\">*{stroke-linecap:butt;stroke-linejoin:round;}</style>\n </defs>\n <g id=\"figure_1\">\n  <g id=\"patch_1\">\n   <path d=\"M 0 185.3 \nL 352.7 185.3 \nL 352.7 0 \nL 0 0 \nz\n\" style=\"fill:none;\"/>\n  </g>\n  <g id=\"axes_1\">\n   <g id=\"patch_2\">\n    <path d=\"M 10.7 174.6 \nL 345.5 174.6 \nL 345.5 7.2 \nL 10.7 7.2 \nz\n\" style=\"fill:#ffffff;\"/>\n   </g>\n   <g clip-path=\"url(#pb7adb47eff)\">\n    <image height=\"167.52\" id=\"image96b9c30a1d\" transform=\"scale(1 -1)translate(0 -167.52)\" width=\"335.04\" x=\"10.7\" xlink:href=\"data:image/png;base64,\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\" y=\"-7.08\"/>\n   </g>\n   <g id=\"patch_3\">\n    <path d=\"M 10.7 174.6 \nL 10.7 7.2 \n\" style=\"fill:none;stroke:#000000;stroke-linecap:square;stroke-linejoin:miter;stroke-width:0.8;\"/>\n   </g>\n   <g id=\"patch_4\">\n    <path d=\"M 345.5 174.6 \nL 345.5 7.2 \n\" style=\"fill:none;stroke:#000000;stroke-linecap:square;stroke-linejoin:miter;stroke-width:0.8;\"/>\n   </g>\n   <g id=\"patch_5\">\n    <path d=\"M 10.7 174.6 \nL 345.5 174.6 \n\" style=\"fill:none;stroke:#000000;stroke-linecap:square;stroke-linejoin:miter;stroke-width:0.8;\"/>\n   </g>\n   <g id=\"patch_6\">\n    <path d=\"M 10.7 7.2 \nL 345.5 7.2 \n\" style=\"fill:none;stroke:#000000;stroke-linecap:square;stroke-linejoin:miter;stroke-width:0.8;\"/>\n   </g>\n  </g>\n </g>\n <defs>\n  <clipPath id=\"pb7adb47eff\">\n   <rect height=\"167.4\" width=\"334.8\" x=\"10.7\" y=\"7.2\"/>\n  </clipPath>\n </defs>\n</svg>\n",
      "image/png": "[encoded data removed]"
     },
     "metadata": {
      "needs_background": "light"
     }
    }
   ],
   "source": [
    "%time SimpleTest(JPSplus, height, width, mapstr, iStart, jStart, iGoal, jGoal, pathLen, proc_map)"
   ]
  },
  {
   "cell_type": "code",
   "execution_count": 15,
   "metadata": {},
   "outputs": [],
   "source": [
    "proc_maps = []\n",
    "count = 0\n",
    "for file in os.listdir(\"DragonAge/maps\"):\n",
    "    if count > 0:\n",
    "        break\n",
    "    taskMap = Map()\n",
    "    taskFileName = str(file) + \".scen\"\n",
    "    mapFileName = str(file)\n",
    "    width, height, cells = ReadMapFromMovingAIFile(mapFileName)\n",
    "    taskMap.SetGridCells(width,height,cells)\n",
    "    proc_maps.append(ProcessMap(np.array(taskMap.cells)))\n",
    "    count += 1"
   ]
  },
  {
   "cell_type": "code",
   "execution_count": 7,
   "metadata": {
    "tags": []
   },
   "outputs": [
    {
     "output_type": "stream",
     "name": "stdout",
     "text": [
      "--- 6.341370344161987 seconds ---\n"
     ]
    }
   ],
   "source": [
    "start_time = time.time()\n",
    "MassiveTest(JPSplus, proc_maps)\n",
    "print(\"--- %s seconds ---\" % (time.time() - start_time))"
   ]
  },
  {
   "cell_type": "code",
   "execution_count": 13,
   "metadata": {},
   "outputs": [],
   "source": [
    "from PIL import Image, ImageDraw\n",
    "import numpy as np\n",
    "import matplotlib.pyplot as plt\n",
    "import math\n",
    "import utils\n",
    "from utils2 import Map, Node, MakePath,  Draw, SimpleTest, MassiveTest\n",
    "from JPS import GetDirection, GetJumpPoint, CheckJumpPoint, traversable, GetNeighbours, JPS\n",
    "%matplotlib inline\n",
    "EPS = 0.000001"
   ]
  },
  {
   "cell_type": "code",
   "execution_count": 14,
   "metadata": {
    "tags": []
   },
   "outputs": [
    {
     "output_type": "stream",
     "name": "stdout",
     "text": [
      "NumberMap -  0\n",
      "--- 7.313891887664795 seconds ---\n"
     ]
    }
   ],
   "source": [
    "start_time = time.time()\n",
    "JPSData = MassiveTest(JPS)\n",
    "print(\"--- %s seconds ---\" % (time.time() - start_time))"
   ]
  }
 ]
}