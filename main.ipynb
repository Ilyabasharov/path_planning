{
 "cells": [
  {
   "cell_type": "code",
   "execution_count": 3,
   "metadata": {},
   "outputs": [],
   "source": [
    "from solver.jps import JPS\n",
    "from solver.astar import AStar\n",
    "from utils.distance import diagonalDistance\n",
    "from solver.base import findPathBase\n",
    "\n",
    "from container.open import OpenList\n",
    "from container.closed import ClosedList\n",
    "\n",
    "from evaluation.test import simpleTest"
   ]
  },
  {
   "cell_type": "code",
   "execution_count": 4,
   "metadata": {},
   "outputs": [],
   "source": [
    "height = 15\n",
    "width = 30\n",
    "mapstr = '''\n",
    ". . . . . . . . . . . . . . . . . . . . . # # . . . . . . .\n",
    ". . . . . . . . . . . . . . . . . . . . . # # . . . . . . .\n",
    ". . . . . . . . . . . . . . . . . . . . . # # . . . . . . .\n",
    ". . . # # . . . . . . . . . . . . . . . . # # . . . . . . .\n",
    ". . . # # . . . . . . . . # # . . . . . . # # . . . . . . .\n",
    ". . . # # . . . . . . . . # # . . . . . . # # # # # . . . .\n",
    ". . . # # . . . . . . . . # # . . . . . . # # # # # . . . .\n",
    ". . . # # . . . . . . . . # # . . . . . . . . . . . . . . .\n",
    ". . . # # . . . . . . . . # # . . . . . . . . . . . . . . .\n",
    ". . . # # . . . . . . . . # # . . . . . . . . . . . . . . .\n",
    ". . . # # . . . . . . . . # # . . . . . . . . . . . . . . .\n",
    ". . . # # . . . . . . . . # # . . . . . . . . . . . . . . .\n",
    ". . . . . . . . . . . . . # # . . . . . . . . . . . . . . .\n",
    ". . . . . . . . . . . . . # # . . . . . . . . . . . . . . .\n",
    ". . . . . . . . . . . . . # # . . . . . . . . . . . . . . .\n",
    "'''\n",
    "iStart = 1\n",
    "jStart = 1\n",
    "iGoal = 13\n",
    "jGoal = 28"
   ]
  },
  {
   "cell_type": "code",
   "execution_count": 5,
   "metadata": {},
   "outputs": [
    {
     "data": {
      "image/png": "[encoded data removed]",
      "text/plain": [
       "<PIL.Image.Image image mode=RGB size=600x300 at 0x7FC02AA1F4C0>"
      ]
     },
     "metadata": {},
     "output_type": "display_data"
    },
    {
     "data": {
      "text/plain": [
       "{'time': 0.002650022506713867,\n",
       " 'found': True,\n",
       " 'length': 31.970562748477143,\n",
       " 'created': 12}"
      ]
     },
     "execution_count": 5,
     "metadata": {},
     "output_type": "execute_result"
    }
   ],
   "source": [
    "simpleTest(\n",
    "    JPS(diagonalDistance),\n",
    "    findPathBase,\n",
    "    mapstr,\n",
    "    height, width,\n",
    "    iStart, jStart,\n",
    "    iGoal, jGoal,\n",
    "    OpenList,\n",
    "    ClosedList,\n",
    ")"
   ]
  },
  {
   "cell_type": "code",
   "execution_count": 6,
   "metadata": {},
   "outputs": [
    {
     "data": {
      "image/png": "[encoded data removed]",
      "text/plain": [
       "<PIL.Image.Image image mode=RGB size=600x300 at 0x7FC02A9FE9A0>"
      ]
     },
     "metadata": {},
     "output_type": "display_data"
    },
    {
     "data": {
      "text/plain": [
       "{'time': 0.005964756011962891,\n",
       " 'found': True,\n",
       " 'length': 31.970562748477146,\n",
       " 'created': 192}"
      ]
     },
     "execution_count": 6,
     "metadata": {},
     "output_type": "execute_result"
    }
   ],
   "source": [
    "simpleTest(\n",
    "    AStar(diagonalDistance),\n",
    "    findPathBase,\n",
    "    mapstr,\n",
    "    height, width,\n",
    "    iStart, jStart,\n",
    "    iGoal, jGoal,\n",
    "    OpenList,\n",
    "    ClosedList,\n",
    ")"
   ]
  },
  {
   "cell_type": "code",
   "execution_count": 7,
   "metadata": {},
   "outputs": [],
   "source": [
    "height = 15\n",
    "width = 30\n",
    "mapstr = '''\n",
    ". . . . . . . . . . . . . . . . . . . . . # # . . . . . . .  \n",
    ". . . . . . . . . . . . . . . . . . . . . # # . . . . . . . \n",
    ". . . . . . . . . . . . . . . . . . . . . # # . . . . . . . \n",
    ". . . # # . . . . . . . . . . . . . . . . # . . . . . . . . \n",
    ". . . # # . . . . . . . . # # . . . . . . # . . . . . . . . \n",
    ". . . # # . . . . . . . . # # . . . . . . # . # # # . . . . \n",
    ". . . # # . . . . . . . . # # . . . . . . # . # . # . . . . \n",
    ". . . # # . . . . . . . . # # . . . . . . # . . . # . . . .\n",
    ". . . # # . . . . . . . . # # . . . . . . # # # # . . . . . \n",
    ". . . # # . . . . . . . . # # . . . . . . . . . . . . . . . \n",
    ". . . # # . . . . . . . . # # . . . . . . . . . . . . . . . \n",
    ". . . # # . . . . . . . . # # . . . . . . . . . . . . . . . \n",
    ". . . . . . . . . . . . . # # . . . . . . . . . . . . . . . \n",
    ". . . . . . . . . . . . . # # . . . . . . . . . . . . . . .\n",
    ". . . . . . . . . . . . . # # . . . . . . . . . . . . . . .\n",
    "'''\n",
    "iStart = 1\n",
    "jStart = 1\n",
    "iGoal = 6\n",
    "jGoal = 24"
   ]
  },
  {
   "cell_type": "code",
   "execution_count": 8,
   "metadata": {},
   "outputs": [
    {
     "data": {
      "image/png": "[encoded data removed]",
      "text/plain": [
       "<PIL.Image.Image image mode=RGB size=600x300 at 0x7FC02A8C1F10>"
      ]
     },
     "metadata": {},
     "output_type": "display_data"
    },
    {
     "data": {
      "text/plain": [
       "{'time': 0.003480672836303711,\n",
       " 'found': True,\n",
       " 'length': 39.79898987322332,\n",
       " 'created': 19}"
      ]
     },
     "execution_count": 8,
     "metadata": {},
     "output_type": "execute_result"
    }
   ],
   "source": [
    "simpleTest(\n",
    "    JPS(diagonalDistance),\n",
    "    findPathBase,\n",
    "    mapstr,\n",
    "    height, width,\n",
    "    iStart, jStart,\n",
    "    iGoal, jGoal,\n",
    "    OpenList,\n",
    "    ClosedList,\n",
    ")"
   ]
  },
  {
   "cell_type": "code",
   "execution_count": 9,
   "metadata": {},
   "outputs": [
    {
     "data": {
      "image/png": "[encoded data removed]",
      "text/plain": [
       "<PIL.Image.Image image mode=RGB size=600x300 at 0x7FC02ABCEF40>"
      ]
     },
     "metadata": {},
     "output_type": "display_data"
    },
    {
     "data": {
      "text/plain": [
       "{'time': 0.015155315399169922,\n",
       " 'found': True,\n",
       " 'length': 39.79898987322333,\n",
       " 'created': 379}"
      ]
     },
     "execution_count": 9,
     "metadata": {},
     "output_type": "execute_result"
    }
   ],
   "source": [
    "simpleTest(\n",
    "    AStar(diagonalDistance),\n",
    "    findPathBase,\n",
    "    mapstr,\n",
    "    height, width,\n",
    "    iStart, jStart,\n",
    "    iGoal, jGoal,\n",
    "    OpenList,\n",
    "    ClosedList,\n",
    ")"
   ]
  }
 ],
 "metadata": {
  "kernelspec": {
   "display_name": "Python 3",
   "language": "python",
   "name": "python3"
  },
  "language_info": {
   "codemirror_mode": {
    "name": "ipython",
    "version": 3
   },
   "file_extension": ".py",
   "mimetype": "text/x-python",
   "name": "python",
   "nbconvert_exporter": "python",
   "pygments_lexer": "ipython3",
   "version": "3.9.0"
  }
 },
 "nbformat": 4,
 "nbformat_minor": 4
}
